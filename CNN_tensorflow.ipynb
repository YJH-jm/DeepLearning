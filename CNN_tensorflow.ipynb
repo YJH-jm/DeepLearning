{
 "cells": [
  {
   "cell_type": "code",
   "execution_count": null,
   "metadata": {},
   "outputs": [],
   "source": [
    "import tensorflow as tf\n",
    "import numpy as np\n",
    "import json\n",
    "import os\n",
    "import PIL\n",
    "from PIL import Image\n",
    "import matplotlib.pyplot as plt\n",
    "import glob\n",
    "# import tensorflow.compat.v1 as tf\n"
   ]
  },
  {
   "cell_type": "markdown",
   "metadata": {},
   "source": [
    "#### 이미지 확인"
   ]
  },
  {
   "cell_type": "code",
   "execution_count": null,
   "metadata": {},
   "outputs": [],
   "source": [
    "# 본인 이미지 경로에 맞춰 확인! \n",
    "img_1 = Image.open(\"C:/Users/Playdata/Desktop/FinalProject/test/dataset/QC_IMAGE/Training/Image_2/QC_cow_segmentation_2_000375.jpg\")\n",
    "\n",
    "plt.imshow(img_1)\n",
    "print(img_1.size) \n",
    "# 1은 이미지 size가 (1080, 1920)로 맞춰진 것 같은데...?\n",
    "# (2268, 4032)도 존재..."
   ]
  },
  {
   "cell_type": "code",
   "execution_count": null,
   "metadata": {},
   "outputs": [],
   "source": [
    "print(img_1.size)"
   ]
  },
  {
   "cell_type": "code",
   "execution_count": null,
   "metadata": {
    "scrolled": true
   },
   "outputs": [],
   "source": [
    "plt.imshow(img_1.resize([128,128]))"
   ]
  },
  {
   "cell_type": "code",
   "execution_count": null,
   "metadata": {},
   "outputs": [],
   "source": [
    "data = img_1.convert(\"RGB\")"
   ]
  },
  {
   "cell_type": "code",
   "execution_count": null,
   "metadata": {},
   "outputs": [],
   "source": [
    "data = data.resize([128,128])\n",
    "plt.imshow(data)"
   ]
  },
  {
   "cell_type": "code",
   "execution_count": null,
   "metadata": {},
   "outputs": [],
   "source": [
    "data = np.asarray(data)"
   ]
  },
  {
   "cell_type": "code",
   "execution_count": null,
   "metadata": {},
   "outputs": [],
   "source": [
    "print(data.shape)\n",
    "print(data)"
   ]
  },
  {
   "cell_type": "code",
   "execution_count": null,
   "metadata": {},
   "outputs": [],
   "source": [
    "data.reshape([1,128,128,3])\n",
    "print(data.shape)"
   ]
  },
  {
   "cell_type": "markdown",
   "metadata": {},
   "source": [
    "#### 경로 설정"
   ]
  },
  {
   "cell_type": "code",
   "execution_count": null,
   "metadata": {},
   "outputs": [],
   "source": [
    "train_data_dir = \"C:/Users/Playdata/Desktop/FinalProject/test/dataset/QC_IMAGE/Training\"\n",
    "test_data_dir = \"C:/Users/Playdata/Desktop/FinalProject/test/dataset/QC_IMAGE/Validation\"\n",
    "categories = ['1++','1+','1','2','3']\n",
    "nb_class=len(categories) # 5"
   ]
  },
  {
   "cell_type": "code",
   "execution_count": null,
   "metadata": {},
   "outputs": [],
   "source": [
    "# 이미지 사이즈 지정\n",
    "image_w = 128\n",
    "image_h = 128\n",
    "\n",
    "pixels = image_w * image_h * 3"
   ]
  },
  {
   "cell_type": "markdown",
   "metadata": {},
   "source": [
    "#### 데이터 불러오기 "
   ]
  },
  {
   "cell_type": "code",
   "execution_count": null,
   "metadata": {},
   "outputs": [],
   "source": [
    "# train 데이터 불러오기\n",
    "\n",
    "x_train = []\n",
    "y_train = []\n",
    "count_train = [0, 0, 0, 0, 0]\n",
    "\n",
    "# 폴더안에 있는 데이터 다 가져오기\n",
    "# enumerate() : 리스트의 순서와 값 반환\n",
    "for idx, c in enumerate(categories):\n",
    "#     print(idx, c)\n",
    "    label = [0 for i in range(nb_class)]\n",
    "#     print(label)\n",
    "    label[idx] = 1\n",
    "#     print(label)\n",
    "\n",
    "    image_dir = train_data_dir+\"/Image_\"+c\n",
    "#     print(image_dir)\n",
    "    files = glob.glob(image_dir+\"/*.jpg\")\n",
    "    print(len(files))\n",
    "    count_train.append(len(files))\n",
    "#     print(files)\n",
    "\n",
    "    # 파일안에 있는 이미지 오픈해서 어레이값으로 변경\n",
    "\n",
    "    for i, f in enumerate(files):\n",
    "#         print(i)\n",
    "        count_train[idx] += 1\n",
    "        img = Image.open(f)\n",
    "        img = img.convert(\"RGB\")\n",
    "        img = img.resize((image_w,image_h))\n",
    "        data = np.asarray(img)\n",
    "        x_train.append(data)\n",
    "        y_train.append(label)\n",
    "        \n",
    "# print(count_train)"
   ]
  },
  {
   "cell_type": "code",
   "execution_count": null,
   "metadata": {},
   "outputs": [],
   "source": [
    "# test 데이터 불러오기\n",
    "\n",
    "x_test = []\n",
    "y_test = []\n",
    "count_test = [0, 0, 0, 0, 0]\n",
    "\n",
    "for idx, c in enumerate(categories):\n",
    "    label = [0 for i in range(nb_class)]\n",
    "    label[idx] = 1\n",
    "    \n",
    "    image_dir = test_data_dir+\"/Image_\"+c\n",
    "    files = glob.glob(image_dir+\"/*.jpg\")\n",
    "\n",
    "    count_test.append(len(files))\n",
    "\n",
    "    for i, f in enumerate(files):\n",
    "        print(i)\n",
    "        count_test[idx] += 1\n",
    "        img = Image.open(f)\n",
    "        img = img.convert(\"RGB\")\n",
    "        img = img.resize((image_w,image_h))\n",
    "        data = np.asarray(img)\n",
    "        x_test.append(data)\n",
    "        y_test.append(label)\n",
    "        \n",
    "print(count_test)"
   ]
  },
  {
   "cell_type": "code",
   "execution_count": null,
   "metadata": {},
   "outputs": [],
   "source": [
    "print(len(x_train))\n",
    "print(x_train[0].shape)\n",
    "print(len(y_train))\n",
    "print(y_train[0])\n",
    "print(x_train[0])"
   ]
  },
  {
   "cell_type": "code",
   "execution_count": null,
   "metadata": {},
   "outputs": [],
   "source": [
    "print(len(x_test))\n",
    "print(len(y_test))"
   ]
  },
  {
   "cell_type": "code",
   "execution_count": null,
   "metadata": {},
   "outputs": [],
   "source": [
    "# 데이터 ndarray 타입으로 변환\n",
    "x_train = np.array(x_train)\n",
    "y_train = np.array(y_train)\n",
    "print(x_train.shape)\n",
    "print(y_train.shape)\n",
    "\n",
    "x_test = np.array(x_test)\n",
    "y_test = np.array(y_test)\n",
    "print(x_test.shape)\n",
    "print(y_test.shape)"
   ]
  },
  {
   "cell_type": "markdown",
   "metadata": {},
   "source": [
    "#### 저장"
   ]
  },
  {
   "cell_type": "code",
   "execution_count": null,
   "metadata": {
    "scrolled": true
   },
   "outputs": [],
   "source": [
    "np.save(\"C:/Users/Playdata/Desktop/FinalProject/test/dataset/trainX.npy\",x_train)\n",
    "np.save(\"C:/Users/Playdata/Desktop/FinalProject/test/dataset/trainY.npy\",y_train)"
   ]
  },
  {
   "cell_type": "code",
   "execution_count": null,
   "metadata": {},
   "outputs": [],
   "source": [
    "np.save(\"C:/Users/Playdata/Desktop/FinalProject/test/dataset/testX.npy\",x_test)\n",
    "np.save(\"C:/Users/Playdata/Desktop/FinalProject/test/dataset/testY.npy\",y_test)"
   ]
  },
  {
   "cell_type": "code",
   "execution_count": null,
   "metadata": {},
   "outputs": [],
   "source": [
    "train_x = np.load(\"C:/Users/Playdata/Desktop/FinalProject/test/dataset/trainX.npy\")\n",
    "train_y = np.load(\"C:/Users/Playdata/Desktop/FinalProject/test/dataset/trainY.npy\")"
   ]
  },
  {
   "cell_type": "code",
   "execution_count": null,
   "metadata": {},
   "outputs": [],
   "source": [
    "test_x = np.load(\"C:/Users/Playdata/Desktop/FinalProject/test/dataset/testX.npy\")\n",
    "test_y = np.load(\"C:/Users/Playdata/Desktop/FinalProject/test/dataset/testY.npy\")"
   ]
  },
  {
   "cell_type": "code",
   "execution_count": null,
   "metadata": {},
   "outputs": [],
   "source": [
    "print(type(train_x))\n",
    "print(type(train_y))\n",
    "print(train_x.shape)\n",
    "print(train_y.shape)\n",
    "print(train_x[0])"
   ]
  },
  {
   "cell_type": "code",
   "execution_count": null,
   "metadata": {},
   "outputs": [],
   "source": [
    "print(train_x.shape)\n",
    "print(train_y.shape)\n",
    "print(train_x[0])"
   ]
  },
  {
   "cell_type": "code",
   "execution_count": null,
   "metadata": {},
   "outputs": [],
   "source": [
    "print(type(test_x))\n",
    "print(type(test_y))\n",
    "print(test_x.shape)\n",
    "print(test_y.shape)\n",
    "print(test_x[0])"
   ]
  },
  {
   "cell_type": "code",
   "execution_count": null,
   "metadata": {},
   "outputs": [],
   "source": [
    "# 표준화, 정규화\n",
    "train_x =  train_x.astype('float32')/255\n",
    "\n",
    "test_x =  test_x.astype('float32')/255"
   ]
  },
  {
   "cell_type": "markdown",
   "metadata": {},
   "source": [
    "#### CNN 설계"
   ]
  },
  {
   "cell_type": "code",
   "execution_count": null,
   "metadata": {},
   "outputs": [],
   "source": [
    "# hyper-parameter 설정\n",
    "\n",
    "learning_rate = 0.0001\n",
    "training_epochs = 100\n",
    "batch_size = 100"
   ]
  },
  {
   "cell_type": "code",
   "execution_count": null,
   "metadata": {
    "scrolled": false
   },
   "outputs": [],
   "source": [
    "# CNN network 설계\n",
    "tf.reset_default_graph()\n",
    "X = tf.placeholder(tf.float32, [None,128, 128, 3])\n",
    "#X_img = tf.placeholder(tf.float32, [None, 128*128*3]) #??X128X128X3 자동 셋팅\n",
    "Y = tf.placeholder(tf.float32, [None, 5]) # 몇 개의 데이터가 들어올지 모르기 때문에 None으로 설정\n",
    "dropout = tf.placeholder(tf.float32) # Convolution Layer에 적용될 dropout\n",
    "dropout2 = tf.placeholder(tf.float32) # Fully-connected Layer에 적용될 dropout\n",
    "\n",
    "##########################test###############################\n",
    "# convolution layer1\n",
    "W1 = tf.Variable(tf.random_normal([3,3,3,32])) # filter 설정\n",
    "B1 = tf.Variable(tf.random_normal([32]))\n",
    "L1 = tf.nn.conv2d(X,W1,strides=[1,1,1,1],padding='SAME') + B1\n",
    "L1 = tf.nn.relu(L1)\n",
    "L1 = tf.nn.max_pool(L1, ksize = [1, 2, 2, 1], strides=[1, 2, 2, 1], padding = 'SAME')\n",
    "L1 = tf.nn.dropout(L1, dropout)\n",
    "\n",
    "# convolution layer2\n",
    "W2 = tf.Variable(tf.random_normal([3,3,32,64]))\n",
    "B2 = tf.Variable(tf.random_normal([64]))\n",
    "L2 = tf.nn.conv2d(L1,W2,strides=[1,1,1,1],padding='SAME') + B2\n",
    "L2 = tf.nn.relu(L2)\n",
    "L2 = tf.nn.max_pool(L2, ksize = [1, 2, 2, 1], strides=[1, 2, 2, 1], padding = 'SAME')\n",
    "L2 = tf.nn.dropout(L2, dropout)\n",
    "\n",
    "# convolution layer3\n",
    "W3 = tf.Variable(tf.random_normal([3,3,64,128]))\n",
    "B3 = tf.Variable(tf.random_normal([128]))\n",
    "L3 = tf.nn.conv2d(L2,W3,strides=[1,1,1,1],padding='SAME') + B3\n",
    "L3 = tf.nn.relu(L3)\n",
    "L3 = tf.nn.max_pool(L3, ksize = [1, 2, 2, 1], strides=[1, 2, 2, 1], padding = 'SAME')\n",
    "L3 = tf.nn.dropout(L3, dropout)\n",
    "\n",
    "# convolution layer4\n",
    "W4 = tf.Variable(tf.random_normal([3,3,128,256]))\n",
    "B4 = tf.Variable(tf.random_normal([256]))\n",
    "L4 = tf.nn.conv2d(L3,W4,strides=[1,1,1,1],padding='SAME') + B4\n",
    "L4 = tf.nn.relu(L4)\n",
    "L4 = tf.nn.max_pool(L4, ksize = [1, 2, 2, 1], strides=[1, 2, 2, 1], padding = 'SAME')\n",
    "L4 = tf.nn.dropout(L4, dropout)\n",
    "L4 = tf.reshape(L4, [-1, 8*8*256])\n",
    "\n",
    "# Fully_connected layer\n",
    "FCW= tf.get_variable(\"FCW\", shape=[8*8*256, 624], initializer = tf.contrib.layers.xavier_initializer())\n",
    "FCB = tf.Variable(tf.random_normal([624]))\n",
    "y = tf.matmul(L4, FCW) + FCB\n",
    "y = tf.nn.relu(y)\n",
    "y = tf.nn.dropout(y, dropout2)\n",
    "\n",
    "#출력\n",
    "FCWO = tf.get_variable(\"FCWO\", shape=[624,5], initializer = tf.contrib.layers.xavier_initializer())\n",
    "model =  tf.matmul(y, FCWO)\n",
    "hypothesis = tf.nn.softmax(model)\n"
   ]
  },
  {
   "cell_type": "code",
   "execution_count": null,
   "metadata": {},
   "outputs": [],
   "source": [
    "cost = tf.reduce_mean(tf.nn.softmax_cross_entropy_with_logits(logits=model,labels=Y))\n",
    "optimizer = tf.train.AdamOptimizer(learning_rate = learning_rate).minimize(cost)"
   ]
  },
  {
   "cell_type": "code",
   "execution_count": null,
   "metadata": {},
   "outputs": [],
   "source": [
    "# 세션 열고 초기화\n",
    "sess = tf.Session()\n",
    "sess.run(tf.global_variables_initializer())\n",
    "\n",
    "\n",
    "for epoch in range(training_epochs):\n",
    "    avg_cost = 0\n",
    "    total_batch = int(len(train_x)/batch_size)\n",
    "    print(epoch+1, \"번째\")\n",
    "    for i in range(total_batch):\n",
    "        # print(i)\n",
    "        batch_xs = train_x[batch_size*i : batch_size*(i+1)]\n",
    "        #print(len(batch_xs))\n",
    "        #print(batch_xs.shape)\n",
    "        batch_ys = train_y[batch_size*i : batch_size*(i+1)]\n",
    "        #print(len(batch_ys))\n",
    "        #print(batch_ys.shape)\n",
    "        _, cost_val= sess.run([optimizer, cost], feed_dict={X: batch_xs, Y: batch_ys, dropout : 0.5, dropout2 : 0.25})\n",
    "        avg_cost += cost_val\n",
    "    print(cost_val)\n",
    "# 정확도 계산\n",
    "correct_prediction = tf.equal(tf.argmax(hypothesis, 1), tf.arg_max(Y, 1))\n",
    "accuracy = tf.reduce_mean(tf.cast(correct_prediction, tf.float32))"
   ]
  },
  {
   "cell_type": "code",
   "execution_count": null,
   "metadata": {},
   "outputs": [],
   "source": [
    "# 테스트 데이터 정확도 계산\n",
    "\n",
    "print('Accuracy:',sess.run(accuracy,feed_dict={X: test_x, Y:test_y, dropout : 1.0, dropout2 : 1.0}))\n"
   ]
  }
 ],
 "metadata": {
  "kernelspec": {
   "display_name": "Python 3",
   "language": "python",
   "name": "python3"
  },
  "toc": {
   "base_numbering": 1,
   "nav_menu": {},
   "number_sections": true,
   "sideBar": true,
   "skip_h1_title": false,
   "title_cell": "Table of Contents",
   "title_sidebar": "Contents",
   "toc_cell": false,
   "toc_position": {},
   "toc_section_display": true,
   "toc_window_display": false
  }
 },
 "nbformat": 4,
 "nbformat_minor": 2
}
